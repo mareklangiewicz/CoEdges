{
 "cells": [
  {
   "cell_type": "markdown",
   "source": [
    "TODO LATER: Review this ancient code - moved from experiments.ws.kts as is."
   ],
   "metadata": {
    "collapsed": false
   }
  },
  {
   "cell_type": "code",
   "execution_count": 2,
   "metadata": {
    "collapsed": true,
    "ExecuteTime": {
     "end_time": "2023-11-09T16:04:44.608933924Z",
     "start_time": "2023-11-09T16:04:44.133409774Z"
    }
   },
   "outputs": [],
   "source": [
    "import kotlinx.coroutines.*\n",
    "import kotlinx.coroutines.channels.*\n",
    "import pl.mareklangiewicz.coedges.*\n",
    "\n",
    "suspend fun channelUsage() = coroutineScope {\n",
    "    val ch = produce {\n",
    "        \"sending started\".tee\n",
    "        send(1)\n",
    "        \"sending ended\".tee\n",
    "    }\n",
    "    \"after produce\".tee\n",
    "    delay(500)\n",
    "    \"after delay\".tee\n",
    "    ch.receive()\n",
    "    \"after receive\".tee.unit\n",
    "}\n",
    "\n",
    "suspend fun typicalConcurrency() = coroutineScope {\n",
    "\n",
    "    val job1 = launch {\n",
    "        \"background operation start\".tee\n",
    "        for (i in 1..5) {\n",
    "            delay(500)\n",
    "            \"background operation progress $i/5\".tee\n",
    "        }\n",
    "        \"background operation end\".tee\n",
    "    }\n",
    "\n",
    "    val job2 = launch {\n",
    "        \"waiting start\".tee\n",
    "        for (i in 1..3) { // usually we await for some user action like \"Cancel\" instead of this for loop\n",
    "            delay(600)\n",
    "            \"waiting $i/3\".tee\n",
    "        }\n",
    "        \"waiting end\".tee\n",
    "    }\n",
    "\n",
    "    job1.invokeOnCompletion { job2.cancel() }\n",
    "    job2.invokeOnCompletion { job1.cancel() }\n",
    "}.unit\n",
    "\n"
   ]
  },
  {
   "cell_type": "code",
   "execution_count": 3,
   "outputs": [
    {
     "name": "stderr",
     "output_type": "stream",
     "text": [
      "pl/mareklangiewicz/coedges/UtilsKt has been compiled by a more recent version of the Java Runtime (class file version 61.0), this version of the Java Runtime only recognizes class file versions up to 55.0\n",
      "java.lang.UnsupportedClassVersionError: pl/mareklangiewicz/coedges/UtilsKt has been compiled by a more recent version of the Java Runtime (class file version 61.0), this version of the Java Runtime only recognizes class file versions up to 55.0\n",
      "\tat java.base/java.lang.ClassLoader.defineClass1(Native Method)\n",
      "\tat java.base/java.lang.ClassLoader.defineClass(ClassLoader.java:1016)\n",
      "\tat java.base/java.security.SecureClassLoader.defineClass(SecureClassLoader.java:174)\n",
      "\tat java.base/java.net.URLClassLoader.defineClass(URLClassLoader.java:550)\n",
      "\tat java.base/java.net.URLClassLoader$1.run(URLClassLoader.java:458)\n",
      "\tat java.base/java.net.URLClassLoader$1.run(URLClassLoader.java:452)\n",
      "\tat java.base/java.security.AccessController.doPrivileged(Native Method)\n",
      "\tat java.base/java.net.URLClassLoader.findClass(URLClassLoader.java:451)\n",
      "\tat java.base/java.lang.ClassLoader.loadClass(ClassLoader.java:588)\n",
      "\tat java.base/java.lang.ClassLoader.loadClass(ClassLoader.java:575)\n",
      "\tat java.base/java.lang.ClassLoader.loadClass(ClassLoader.java:575)\n",
      "\tat java.base/java.lang.ClassLoader.loadClass(ClassLoader.java:575)\n",
      "\tat java.base/java.lang.ClassLoader.loadClass(ClassLoader.java:575)\n",
      "\tat java.base/java.lang.ClassLoader.loadClass(ClassLoader.java:521)\n",
      "\tat Line_3_jupyter.<init>(Line_3.jupyter.kts:1)\n",
      "\tat java.base/jdk.internal.reflect.NativeConstructorAccessorImpl.newInstance0(Native Method)\n",
      "\tat java.base/jdk.internal.reflect.NativeConstructorAccessorImpl.newInstance(NativeConstructorAccessorImpl.java:62)\n",
      "\tat java.base/jdk.internal.reflect.DelegatingConstructorAccessorImpl.newInstance(DelegatingConstructorAccessorImpl.java:45)\n",
      "\tat java.base/java.lang.reflect.Constructor.newInstance(Constructor.java:490)\n",
      "\tat kotlin.script.experimental.jvm.BasicJvmScriptEvaluator.evalWithConfigAndOtherScriptsResults(BasicJvmScriptEvaluator.kt:105)\n",
      "\tat kotlin.script.experimental.jvm.BasicJvmScriptEvaluator.invoke$suspendImpl(BasicJvmScriptEvaluator.kt:47)\n",
      "\tat kotlin.script.experimental.jvm.BasicJvmScriptEvaluator.invoke(BasicJvmScriptEvaluator.kt)\n",
      "\tat kotlin.script.experimental.jvm.BasicJvmReplEvaluator.eval(BasicJvmReplEvaluator.kt:49)\n",
      "\tat org.jetbrains.kotlinx.jupyter.repl.impl.InternalEvaluatorImpl$eval$resultWithDiagnostics$1.invokeSuspend(InternalEvaluatorImpl.kt:107)\n",
      "\tat kotlin.coroutines.jvm.internal.BaseContinuationImpl.resumeWith(ContinuationImpl.kt:33)\n",
      "\tat kotlinx.coroutines.DispatchedTask.run(DispatchedTask.kt:106)\n",
      "\tat kotlinx.coroutines.EventLoopImplBase.processNextEvent(EventLoop.common.kt:284)\n",
      "\tat kotlinx.coroutines.BlockingCoroutine.joinBlocking(Builders.kt:85)\n",
      "\tat kotlinx.coroutines.BuildersKt__BuildersKt.runBlocking(Builders.kt:59)\n",
      "\tat kotlinx.coroutines.BuildersKt.runBlocking(Unknown Source)\n",
      "\tat kotlinx.coroutines.BuildersKt__BuildersKt.runBlocking$default(Builders.kt:38)\n",
      "\tat kotlinx.coroutines.BuildersKt.runBlocking$default(Unknown Source)\n",
      "\tat org.jetbrains.kotlinx.jupyter.repl.impl.InternalEvaluatorImpl.eval(InternalEvaluatorImpl.kt:107)\n",
      "\tat org.jetbrains.kotlinx.jupyter.repl.impl.CellExecutorImpl$execute$1$result$1.invoke(CellExecutorImpl.kt:75)\n",
      "\tat org.jetbrains.kotlinx.jupyter.repl.impl.CellExecutorImpl$execute$1$result$1.invoke(CellExecutorImpl.kt:73)\n",
      "\tat org.jetbrains.kotlinx.jupyter.ReplForJupyterImpl.withHost(repl.kt:687)\n",
      "\tat org.jetbrains.kotlinx.jupyter.repl.impl.CellExecutorImpl.execute(CellExecutorImpl.kt:73)\n",
      "\tat org.jetbrains.kotlinx.jupyter.repl.CellExecutor$DefaultImpls.execute$default(CellExecutor.kt:14)\n",
      "\tat org.jetbrains.kotlinx.jupyter.ReplForJupyterImpl$evalEx$1.invoke(repl.kt:497)\n",
      "\tat org.jetbrains.kotlinx.jupyter.ReplForJupyterImpl$evalEx$1.invoke(repl.kt:475)\n",
      "\tat org.jetbrains.kotlinx.jupyter.ReplForJupyterImpl.withEvalContext(repl.kt:438)\n",
      "\tat org.jetbrains.kotlinx.jupyter.ReplForJupyterImpl.evalEx(repl.kt:475)\n",
      "\tat org.jetbrains.kotlinx.jupyter.messaging.ProtocolKt$shellMessagesHandler$2$res$1.invoke(protocol.kt:320)\n",
      "\tat org.jetbrains.kotlinx.jupyter.messaging.ProtocolKt$shellMessagesHandler$2$res$1.invoke(protocol.kt:314)\n",
      "\tat org.jetbrains.kotlinx.jupyter.JupyterExecutorImpl$runExecution$execThread$1.invoke(execution.kt:38)\n",
      "\tat org.jetbrains.kotlinx.jupyter.JupyterExecutorImpl$runExecution$execThread$1.invoke(execution.kt:33)\n",
      "\tat kotlin.concurrent.ThreadsKt$thread$thread$1.run(Thread.kt:30)\n"
     ]
    }
   ],
   "source": [
    "\"****** Experiment 1: channelUsage *****\".tee.unit\n",
    "runBlocking { channelUsage() }\n"
   ],
   "metadata": {
    "collapsed": false,
    "ExecuteTime": {
     "end_time": "2023-11-09T16:05:29.048971870Z",
     "start_time": "2023-11-09T16:05:28.901105749Z"
    }
   }
  },
  {
   "cell_type": "code",
   "execution_count": 4,
   "outputs": [
    {
     "name": "stderr",
     "output_type": "stream",
     "text": [
      "pl/mareklangiewicz/coedges/UtilsKt has been compiled by a more recent version of the Java Runtime (class file version 61.0), this version of the Java Runtime only recognizes class file versions up to 55.0\n",
      "java.lang.UnsupportedClassVersionError: pl/mareklangiewicz/coedges/UtilsKt has been compiled by a more recent version of the Java Runtime (class file version 61.0), this version of the Java Runtime only recognizes class file versions up to 55.0\n",
      "\tat java.base/java.lang.ClassLoader.defineClass1(Native Method)\n",
      "\tat java.base/java.lang.ClassLoader.defineClass(ClassLoader.java:1016)\n",
      "\tat java.base/java.security.SecureClassLoader.defineClass(SecureClassLoader.java:174)\n",
      "\tat java.base/java.net.URLClassLoader.defineClass(URLClassLoader.java:550)\n",
      "\tat java.base/java.net.URLClassLoader$1.run(URLClassLoader.java:458)\n",
      "\tat java.base/java.net.URLClassLoader$1.run(URLClassLoader.java:452)\n",
      "\tat java.base/java.security.AccessController.doPrivileged(Native Method)\n",
      "\tat java.base/java.net.URLClassLoader.findClass(URLClassLoader.java:451)\n",
      "\tat java.base/java.lang.ClassLoader.loadClass(ClassLoader.java:588)\n",
      "\tat java.base/java.lang.ClassLoader.loadClass(ClassLoader.java:575)\n",
      "\tat java.base/java.lang.ClassLoader.loadClass(ClassLoader.java:575)\n",
      "\tat java.base/java.lang.ClassLoader.loadClass(ClassLoader.java:575)\n",
      "\tat java.base/java.lang.ClassLoader.loadClass(ClassLoader.java:575)\n",
      "\tat java.base/java.lang.ClassLoader.loadClass(ClassLoader.java:575)\n",
      "\tat java.base/java.lang.ClassLoader.loadClass(ClassLoader.java:521)\n",
      "\tat Line_4_jupyter.<init>(Line_4.jupyter.kts:1)\n",
      "\tat java.base/jdk.internal.reflect.NativeConstructorAccessorImpl.newInstance0(Native Method)\n",
      "\tat java.base/jdk.internal.reflect.NativeConstructorAccessorImpl.newInstance(NativeConstructorAccessorImpl.java:62)\n",
      "\tat java.base/jdk.internal.reflect.DelegatingConstructorAccessorImpl.newInstance(DelegatingConstructorAccessorImpl.java:45)\n",
      "\tat java.base/java.lang.reflect.Constructor.newInstance(Constructor.java:490)\n",
      "\tat kotlin.script.experimental.jvm.BasicJvmScriptEvaluator.evalWithConfigAndOtherScriptsResults(BasicJvmScriptEvaluator.kt:105)\n",
      "\tat kotlin.script.experimental.jvm.BasicJvmScriptEvaluator.invoke$suspendImpl(BasicJvmScriptEvaluator.kt:47)\n",
      "\tat kotlin.script.experimental.jvm.BasicJvmScriptEvaluator.invoke(BasicJvmScriptEvaluator.kt)\n",
      "\tat kotlin.script.experimental.jvm.BasicJvmReplEvaluator.eval(BasicJvmReplEvaluator.kt:49)\n",
      "\tat org.jetbrains.kotlinx.jupyter.repl.impl.InternalEvaluatorImpl$eval$resultWithDiagnostics$1.invokeSuspend(InternalEvaluatorImpl.kt:107)\n",
      "\tat kotlin.coroutines.jvm.internal.BaseContinuationImpl.resumeWith(ContinuationImpl.kt:33)\n",
      "\tat kotlinx.coroutines.DispatchedTask.run(DispatchedTask.kt:106)\n",
      "\tat kotlinx.coroutines.EventLoopImplBase.processNextEvent(EventLoop.common.kt:284)\n",
      "\tat kotlinx.coroutines.BlockingCoroutine.joinBlocking(Builders.kt:85)\n",
      "\tat kotlinx.coroutines.BuildersKt__BuildersKt.runBlocking(Builders.kt:59)\n",
      "\tat kotlinx.coroutines.BuildersKt.runBlocking(Unknown Source)\n",
      "\tat kotlinx.coroutines.BuildersKt__BuildersKt.runBlocking$default(Builders.kt:38)\n",
      "\tat kotlinx.coroutines.BuildersKt.runBlocking$default(Unknown Source)\n",
      "\tat org.jetbrains.kotlinx.jupyter.repl.impl.InternalEvaluatorImpl.eval(InternalEvaluatorImpl.kt:107)\n",
      "\tat org.jetbrains.kotlinx.jupyter.repl.impl.CellExecutorImpl$execute$1$result$1.invoke(CellExecutorImpl.kt:75)\n",
      "\tat org.jetbrains.kotlinx.jupyter.repl.impl.CellExecutorImpl$execute$1$result$1.invoke(CellExecutorImpl.kt:73)\n",
      "\tat org.jetbrains.kotlinx.jupyter.ReplForJupyterImpl.withHost(repl.kt:687)\n",
      "\tat org.jetbrains.kotlinx.jupyter.repl.impl.CellExecutorImpl.execute(CellExecutorImpl.kt:73)\n",
      "\tat org.jetbrains.kotlinx.jupyter.repl.CellExecutor$DefaultImpls.execute$default(CellExecutor.kt:14)\n",
      "\tat org.jetbrains.kotlinx.jupyter.ReplForJupyterImpl$evalEx$1.invoke(repl.kt:497)\n",
      "\tat org.jetbrains.kotlinx.jupyter.ReplForJupyterImpl$evalEx$1.invoke(repl.kt:475)\n",
      "\tat org.jetbrains.kotlinx.jupyter.ReplForJupyterImpl.withEvalContext(repl.kt:438)\n",
      "\tat org.jetbrains.kotlinx.jupyter.ReplForJupyterImpl.evalEx(repl.kt:475)\n",
      "\tat org.jetbrains.kotlinx.jupyter.messaging.ProtocolKt$shellMessagesHandler$2$res$1.invoke(protocol.kt:320)\n",
      "\tat org.jetbrains.kotlinx.jupyter.messaging.ProtocolKt$shellMessagesHandler$2$res$1.invoke(protocol.kt:314)\n",
      "\tat org.jetbrains.kotlinx.jupyter.JupyterExecutorImpl$runExecution$execThread$1.invoke(execution.kt:38)\n",
      "\tat org.jetbrains.kotlinx.jupyter.JupyterExecutorImpl$runExecution$execThread$1.invoke(execution.kt:33)\n",
      "\tat kotlin.concurrent.ThreadsKt$thread$thread$1.run(Thread.kt:30)\n"
     ]
    }
   ],
   "source": [
    "\"****** Experiment 2: typicalConcurrency *****\".tee.unit\n",
    "runBlocking { typicalConcurrency() }\n"
   ],
   "metadata": {
    "collapsed": false,
    "ExecuteTime": {
     "end_time": "2023-11-09T16:05:56.195396267Z",
     "start_time": "2023-11-09T16:05:56.055912879Z"
    }
   }
  },
  {
   "cell_type": "code",
   "execution_count": null,
   "outputs": [],
   "source": [],
   "metadata": {
    "collapsed": false
   }
  }
 ],
 "metadata": {
  "kernelspec": {
   "display_name": "Kotlin",
   "language": "kotlin",
   "name": "kotlin"
  },
  "language_info": {
   "name": "kotlin",
   "version": "1.9.0",
   "mimetype": "text/x-kotlin",
   "file_extension": ".kt",
   "pygments_lexer": "kotlin",
   "codemirror_mode": "text/x-kotlin",
   "nbconvert_exporter": ""
  },
  "ktnbPluginMetadata": {
   "projectDependencies": [
    "CoEdges.coedges.commonMain",
    "CoEdges.coedges.commonTest",
    "CoEdges.coedges.jvmMain",
    "CoEdges.coedges.jvmTest"
   ]
  }
 },
 "nbformat": 4,
 "nbformat_minor": 0
}
